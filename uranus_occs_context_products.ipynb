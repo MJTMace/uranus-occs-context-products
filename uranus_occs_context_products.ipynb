{
 "cells": [
  {
   "cell_type": "markdown",
   "id": "c018e62b",
   "metadata": {},
   "source": [
    "# Using lxml parser for Matt's uranus_occs_obs_syst_to_spreadsheet.py script:\n",
    "\n",
    "Note: I've called Matt's output `uranus_occs_info_auto.csv` as `uranus_occs_info_auto_matt.csv` (which I use to check my code works below)"
   ]
  },
  {
   "cell_type": "code",
   "execution_count": null,
   "id": "287eebc1",
   "metadata": {},
   "outputs": [],
   "source": [
    "from bs4 import BeautifulSoup as bs # Import BeautifulSoup4 (not BeautifulSoup3)\n",
    "from astropy.table import Table\n",
    "\n",
    "infile = 'obs_syst-templates-2021-03-22a_matt.txt'\n",
    "outfile = 'uranus_occs_info_auto_mia.csv'\n",
    "\n",
    "content = [] # initialise for storing\n",
    "\n",
    "# Read the XML file\n",
    "with open(infile, \"r\") as fin:\n",
    "    # Read each line in the file, readlines() returns a list of lines\n",
    "    content = fin.readlines()\n",
    "    # Combine the lines in the list into a string\n",
    "    content = \"\".join(content)\n",
    "    bs_content = bs(content, \"lxml\") #pass the content into the BeautifulSoup library as well as the lxml parser \n",
    "\n",
    "# Initialise lists for storage purposes:\n",
    "facility_names = []; telescope_names = []; instrument_names = []\n",
    "facility_lids = []; telescope_lids = []; instrument_lids = []\n",
    "\n",
    "for obsyscomp in bs_content.find_all('observing_system_component'):\n",
    "    for obsyscomptype in obsyscomp.find(\"type\"):\n",
    "        if obsyscomptype == \"Host\" and obsyscomp.parent.find('name').text != \"Hubble Space Telescope FOS\" : # Gotcha: The HST does not have a <type>=\"Telescope\" (only \"Host\" and \"Instrument\")\n",
    "            facility_name = (obsyscomp.find(\"name\").text)\n",
    "            facility_lid = obsyscomp.find(\"lid_reference\").text\n",
    "            facility_names.append(facility_name)\n",
    "            facility_lids.append(facility_lid)\n",
    "        elif obsyscomptype == \"Telescope\" and obsyscomp.parent.find('name').text != \"Hubble Space Telescope FOS\" : \n",
    "            #print(\"here:\", obsyscomp.parent.text)\n",
    "            telescope_name = (obsyscomp.find(\"name\").text)\n",
    "            telescope_lid = obsyscomp.find(\"lid_reference\").text\n",
    "            telescope_names.append(telescope_name)\n",
    "            telescope_lids.append(telescope_lid)\n",
    "        elif obsyscomptype == \"Instrument\" and obsyscomp.parent.find('name').text != \"Hubble Space Telescope FOS\":\n",
    "            instrument_name = (obsyscomp.find(\"name\").text)\n",
    "            instrument_lid = obsyscomp.find(\"lid_reference\").text\n",
    "            instrument_names.append(instrument_name)\n",
    "            instrument_lids.append(instrument_lid)\n",
    "        else:\n",
    "            print(\"Hubble Space Telescope has no type = Instrument, therefore skipping\")\n",
    "\n",
    "table = Table({'facility_lid': facility_lids, \n",
    "               'telescope_lid': telescope_lids,\n",
    "               'instrument_lid': instrument_lids,\n",
    "               'facility_name': facility_names, \n",
    "               'telescope_name': telescope_names,\n",
    "              'instrument_name': instrument_names},\n",
    "              names=('facility_lid', 'telescope_lid', 'instrument_lid', 'facility_name', 'telescope_name', 'instrument_name'))\n",
    "\n",
    "table.write('uranus_occs_info_auto_mia.csv', format='ascii', delimiter=\",\", overwrite=True)  "
   ]
  },
  {
   "cell_type": "code",
   "execution_count": null,
   "id": "724136f8",
   "metadata": {},
   "outputs": [],
   "source": [
    "!diff ./uranus_occs_info_auto_matt.csv ./uranus_occs_info_auto_mia.csv # The only difference is that I gave each column a header"
   ]
  },
  {
   "cell_type": "code",
   "execution_count": null,
   "id": "7cdd6144",
   "metadata": {},
   "outputs": [],
   "source": [
    "table.show_in_notebook()"
   ]
  },
  {
   "cell_type": "code",
   "execution_count": null,
   "id": "af40ceb9",
   "metadata": {},
   "outputs": [],
   "source": []
  }
 ],
 "metadata": {
  "kernelspec": {
   "display_name": "Python 3",
   "language": "python",
   "name": "python3"
  },
  "language_info": {
   "codemirror_mode": {
    "name": "ipython",
    "version": 3
   },
   "file_extension": ".py",
   "mimetype": "text/x-python",
   "name": "python",
   "nbconvert_exporter": "python",
   "pygments_lexer": "ipython3",
   "version": "3.9.6"
  }
 },
 "nbformat": 4,
 "nbformat_minor": 5
}
